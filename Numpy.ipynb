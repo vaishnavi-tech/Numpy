{
 "cells": [
  {
   "cell_type": "code",
   "execution_count": 1,
   "id": "2107e686",
   "metadata": {},
   "outputs": [],
   "source": [
    "import numpy as np"
   ]
  },
  {
   "cell_type": "code",
   "execution_count": 2,
   "id": "bf8c5a6b",
   "metadata": {},
   "outputs": [],
   "source": [
    "arr1 = np.array([100,200,300,400])"
   ]
  },
  {
   "cell_type": "code",
   "execution_count": 3,
   "id": "d84d8e5a",
   "metadata": {},
   "outputs": [
    {
     "data": {
      "text/plain": [
       "array([100, 200, 300, 400])"
      ]
     },
     "execution_count": 3,
     "metadata": {},
     "output_type": "execute_result"
    }
   ],
   "source": [
    "arr1"
   ]
  },
  {
   "cell_type": "code",
   "execution_count": 4,
   "id": "04ab425e",
   "metadata": {},
   "outputs": [
    {
     "name": "stdout",
     "output_type": "stream",
     "text": [
      "[100 200 300 400]\n"
     ]
    }
   ],
   "source": [
    "print(arr1)"
   ]
  },
  {
   "cell_type": "code",
   "execution_count": 5,
   "id": "46907d96",
   "metadata": {},
   "outputs": [],
   "source": [
    "list1 = [100, 200, 300, 400]"
   ]
  },
  {
   "cell_type": "code",
   "execution_count": 6,
   "id": "33ba9671",
   "metadata": {},
   "outputs": [
    {
     "data": {
      "text/plain": [
       "[100, 200, 300, 400]"
      ]
     },
     "execution_count": 6,
     "metadata": {},
     "output_type": "execute_result"
    }
   ],
   "source": [
    "list1"
   ]
  },
  {
   "cell_type": "code",
   "execution_count": 7,
   "id": "ba4d9dc4",
   "metadata": {},
   "outputs": [
    {
     "data": {
      "text/plain": [
       "list"
      ]
     },
     "execution_count": 7,
     "metadata": {},
     "output_type": "execute_result"
    }
   ],
   "source": [
    "type(list1)"
   ]
  },
  {
   "cell_type": "code",
   "execution_count": 8,
   "id": "7f999970",
   "metadata": {},
   "outputs": [],
   "source": [
    "arr2 = np.array([[10,20,30],[100,200,300],[11,22,33]])"
   ]
  },
  {
   "cell_type": "code",
   "execution_count": 9,
   "id": "646363dd",
   "metadata": {},
   "outputs": [
    {
     "data": {
      "text/plain": [
       "array([[ 10,  20,  30],\n",
       "       [100, 200, 300],\n",
       "       [ 11,  22,  33]])"
      ]
     },
     "execution_count": 9,
     "metadata": {},
     "output_type": "execute_result"
    }
   ],
   "source": [
    "arr2"
   ]
  },
  {
   "cell_type": "code",
   "execution_count": 10,
   "id": "b4a5275b",
   "metadata": {},
   "outputs": [
    {
     "data": {
      "text/plain": [
       "2"
      ]
     },
     "execution_count": 10,
     "metadata": {},
     "output_type": "execute_result"
    }
   ],
   "source": [
    "arr2.ndim"
   ]
  },
  {
   "cell_type": "code",
   "execution_count": 11,
   "id": "98c9cbc6",
   "metadata": {},
   "outputs": [
    {
     "data": {
      "text/plain": [
       "(3, 3)"
      ]
     },
     "execution_count": 11,
     "metadata": {},
     "output_type": "execute_result"
    }
   ],
   "source": [
    "arr2.shape"
   ]
  },
  {
   "cell_type": "code",
   "execution_count": 12,
   "id": "f2003fd7",
   "metadata": {},
   "outputs": [
    {
     "data": {
      "text/plain": [
       "9"
      ]
     },
     "execution_count": 12,
     "metadata": {},
     "output_type": "execute_result"
    }
   ],
   "source": [
    "arr2.size"
   ]
  },
  {
   "cell_type": "code",
   "execution_count": 13,
   "id": "9db027ab",
   "metadata": {},
   "outputs": [
    {
     "data": {
      "text/plain": [
       "dtype('int32')"
      ]
     },
     "execution_count": 13,
     "metadata": {},
     "output_type": "execute_result"
    }
   ],
   "source": [
    "arr2.dtype"
   ]
  },
  {
   "cell_type": "code",
   "execution_count": 14,
   "id": "f55d6d53",
   "metadata": {},
   "outputs": [
    {
     "data": {
      "text/plain": [
       "4"
      ]
     },
     "execution_count": 14,
     "metadata": {},
     "output_type": "execute_result"
    }
   ],
   "source": [
    "arr2.itemsize"
   ]
  },
  {
   "cell_type": "code",
   "execution_count": 15,
   "id": "1d053d6b",
   "metadata": {},
   "outputs": [],
   "source": [
    "ary_one = np.ones((4,5), dtype = \"int\")"
   ]
  },
  {
   "cell_type": "code",
   "execution_count": 16,
   "id": "24fbba44",
   "metadata": {},
   "outputs": [
    {
     "data": {
      "text/plain": [
       "array([[1, 1, 1, 1, 1],\n",
       "       [1, 1, 1, 1, 1],\n",
       "       [1, 1, 1, 1, 1],\n",
       "       [1, 1, 1, 1, 1]])"
      ]
     },
     "execution_count": 16,
     "metadata": {},
     "output_type": "execute_result"
    }
   ],
   "source": [
    "ary_one"
   ]
  },
  {
   "cell_type": "code",
   "execution_count": 17,
   "id": "0eae06b1",
   "metadata": {},
   "outputs": [
    {
     "data": {
      "text/plain": [
       "dtype('int32')"
      ]
     },
     "execution_count": 17,
     "metadata": {},
     "output_type": "execute_result"
    }
   ],
   "source": [
    "ary_one.dtype"
   ]
  },
  {
   "cell_type": "code",
   "execution_count": 18,
   "id": "f25ed2c6",
   "metadata": {},
   "outputs": [],
   "source": [
    "ary_3d = np.ones((2,4,6), dtype = \"int\")"
   ]
  },
  {
   "cell_type": "code",
   "execution_count": 19,
   "id": "b77206b3",
   "metadata": {},
   "outputs": [
    {
     "data": {
      "text/plain": [
       "array([[[1, 1, 1, 1, 1, 1],\n",
       "        [1, 1, 1, 1, 1, 1],\n",
       "        [1, 1, 1, 1, 1, 1],\n",
       "        [1, 1, 1, 1, 1, 1]],\n",
       "\n",
       "       [[1, 1, 1, 1, 1, 1],\n",
       "        [1, 1, 1, 1, 1, 1],\n",
       "        [1, 1, 1, 1, 1, 1],\n",
       "        [1, 1, 1, 1, 1, 1]]])"
      ]
     },
     "execution_count": 19,
     "metadata": {},
     "output_type": "execute_result"
    }
   ],
   "source": [
    "ary_3d"
   ]
  },
  {
   "cell_type": "code",
   "execution_count": 20,
   "id": "910d807d",
   "metadata": {},
   "outputs": [],
   "source": [
    "ary_zero = np.zeros((3,5,6))"
   ]
  },
  {
   "cell_type": "code",
   "execution_count": 21,
   "id": "527413cb",
   "metadata": {},
   "outputs": [
    {
     "data": {
      "text/plain": [
       "array([[[0., 0., 0., 0., 0., 0.],\n",
       "        [0., 0., 0., 0., 0., 0.],\n",
       "        [0., 0., 0., 0., 0., 0.],\n",
       "        [0., 0., 0., 0., 0., 0.],\n",
       "        [0., 0., 0., 0., 0., 0.]],\n",
       "\n",
       "       [[0., 0., 0., 0., 0., 0.],\n",
       "        [0., 0., 0., 0., 0., 0.],\n",
       "        [0., 0., 0., 0., 0., 0.],\n",
       "        [0., 0., 0., 0., 0., 0.],\n",
       "        [0., 0., 0., 0., 0., 0.]],\n",
       "\n",
       "       [[0., 0., 0., 0., 0., 0.],\n",
       "        [0., 0., 0., 0., 0., 0.],\n",
       "        [0., 0., 0., 0., 0., 0.],\n",
       "        [0., 0., 0., 0., 0., 0.],\n",
       "        [0., 0., 0., 0., 0., 0.]]])"
      ]
     },
     "execution_count": 21,
     "metadata": {},
     "output_type": "execute_result"
    }
   ],
   "source": [
    "ary_zero"
   ]
  },
  {
   "cell_type": "code",
   "execution_count": 22,
   "id": "e3427a6c",
   "metadata": {},
   "outputs": [
    {
     "data": {
      "text/plain": [
       "array([[1., 0., 0., 0.],\n",
       "       [0., 1., 0., 0.],\n",
       "       [0., 0., 1., 0.],\n",
       "       [0., 0., 0., 1.]])"
      ]
     },
     "execution_count": 22,
     "metadata": {},
     "output_type": "execute_result"
    }
   ],
   "source": [
    "np.eye(4,4)"
   ]
  },
  {
   "cell_type": "code",
   "execution_count": 23,
   "id": "948731dd",
   "metadata": {},
   "outputs": [
    {
     "data": {
      "text/plain": [
       "array([[1., 0., 0., 0.],\n",
       "       [0., 1., 0., 0.],\n",
       "       [0., 0., 1., 0.],\n",
       "       [0., 0., 0., 1.]])"
      ]
     },
     "execution_count": 23,
     "metadata": {},
     "output_type": "execute_result"
    }
   ],
   "source": [
    "np.identity(4)"
   ]
  },
  {
   "cell_type": "code",
   "execution_count": 24,
   "id": "966247fa",
   "metadata": {},
   "outputs": [
    {
     "data": {
      "text/plain": [
       "array([[1., 0., 0., 0., 0., 0.],\n",
       "       [0., 1., 0., 0., 0., 0.],\n",
       "       [0., 0., 1., 0., 0., 0.],\n",
       "       [0., 0., 0., 1., 0., 0.]])"
      ]
     },
     "execution_count": 24,
     "metadata": {},
     "output_type": "execute_result"
    }
   ],
   "source": [
    "np.eye(4,6)"
   ]
  },
  {
   "cell_type": "code",
   "execution_count": 25,
   "id": "3aa68d26",
   "metadata": {},
   "outputs": [
    {
     "data": {
      "text/plain": [
       "array([[0., 1., 0., 0., 0., 0.],\n",
       "       [0., 0., 1., 0., 0., 0.],\n",
       "       [0., 0., 0., 1., 0., 0.],\n",
       "       [0., 0., 0., 0., 1., 0.]])"
      ]
     },
     "execution_count": 25,
     "metadata": {},
     "output_type": "execute_result"
    }
   ],
   "source": [
    "np.eye(4,6, k=1)"
   ]
  },
  {
   "cell_type": "code",
   "execution_count": 26,
   "id": "af9ffc9b",
   "metadata": {},
   "outputs": [
    {
     "data": {
      "text/plain": [
       "array([[0., 0., 1., 0., 0., 0.],\n",
       "       [0., 0., 0., 1., 0., 0.],\n",
       "       [0., 0., 0., 0., 1., 0.],\n",
       "       [0., 0., 0., 0., 0., 1.]])"
      ]
     },
     "execution_count": 26,
     "metadata": {},
     "output_type": "execute_result"
    }
   ],
   "source": [
    "np.eye(4,6, k=2)"
   ]
  },
  {
   "cell_type": "code",
   "execution_count": 27,
   "id": "798f46f0",
   "metadata": {},
   "outputs": [
    {
     "data": {
      "text/plain": [
       "array([[0., 0., 0., 0., 0., 0.],\n",
       "       [0., 0., 0., 0., 0., 0.],\n",
       "       [1., 0., 0., 0., 0., 0.],\n",
       "       [0., 1., 0., 0., 0., 0.]])"
      ]
     },
     "execution_count": 27,
     "metadata": {},
     "output_type": "execute_result"
    }
   ],
   "source": [
    "np.eye(4,6, k=-2)"
   ]
  },
  {
   "cell_type": "code",
   "execution_count": 28,
   "id": "ee435c6d",
   "metadata": {},
   "outputs": [
    {
     "data": {
      "text/plain": [
       "array([10, 12, 14, 16, 18])"
      ]
     },
     "execution_count": 28,
     "metadata": {},
     "output_type": "execute_result"
    }
   ],
   "source": [
    "np.arange(10,20,2)"
   ]
  },
  {
   "cell_type": "code",
   "execution_count": 29,
   "id": "f2d80bca",
   "metadata": {},
   "outputs": [
    {
     "data": {
      "text/plain": [
       "(array([1.        , 1.01010101, 1.02020202, 1.03030303, 1.04040404,\n",
       "        1.05050505, 1.06060606, 1.07070707, 1.08080808, 1.09090909,\n",
       "        1.1010101 , 1.11111111, 1.12121212, 1.13131313, 1.14141414,\n",
       "        1.15151515, 1.16161616, 1.17171717, 1.18181818, 1.19191919,\n",
       "        1.2020202 , 1.21212121, 1.22222222, 1.23232323, 1.24242424,\n",
       "        1.25252525, 1.26262626, 1.27272727, 1.28282828, 1.29292929,\n",
       "        1.3030303 , 1.31313131, 1.32323232, 1.33333333, 1.34343434,\n",
       "        1.35353535, 1.36363636, 1.37373737, 1.38383838, 1.39393939,\n",
       "        1.4040404 , 1.41414141, 1.42424242, 1.43434343, 1.44444444,\n",
       "        1.45454545, 1.46464646, 1.47474747, 1.48484848, 1.49494949,\n",
       "        1.50505051, 1.51515152, 1.52525253, 1.53535354, 1.54545455,\n",
       "        1.55555556, 1.56565657, 1.57575758, 1.58585859, 1.5959596 ,\n",
       "        1.60606061, 1.61616162, 1.62626263, 1.63636364, 1.64646465,\n",
       "        1.65656566, 1.66666667, 1.67676768, 1.68686869, 1.6969697 ,\n",
       "        1.70707071, 1.71717172, 1.72727273, 1.73737374, 1.74747475,\n",
       "        1.75757576, 1.76767677, 1.77777778, 1.78787879, 1.7979798 ,\n",
       "        1.80808081, 1.81818182, 1.82828283, 1.83838384, 1.84848485,\n",
       "        1.85858586, 1.86868687, 1.87878788, 1.88888889, 1.8989899 ,\n",
       "        1.90909091, 1.91919192, 1.92929293, 1.93939394, 1.94949495,\n",
       "        1.95959596, 1.96969697, 1.97979798, 1.98989899, 2.        ]),\n",
       " 0.010101010101010102)"
      ]
     },
     "execution_count": 29,
     "metadata": {},
     "output_type": "execute_result"
    }
   ],
   "source": [
    "np.linspace(1,2,100, retstep=True)"
   ]
  },
  {
   "cell_type": "code",
   "execution_count": 30,
   "id": "5e6ecdbb",
   "metadata": {},
   "outputs": [],
   "source": [
    "ary1 = np.random.rand(4,5)"
   ]
  },
  {
   "cell_type": "code",
   "execution_count": 31,
   "id": "5443462c",
   "metadata": {},
   "outputs": [
    {
     "data": {
      "text/plain": [
       "array([[0.25965141, 0.75657339, 0.50025613, 0.04029012, 0.57549151],\n",
       "       [0.50351204, 0.77274141, 0.00406913, 0.14048937, 0.15007779],\n",
       "       [0.48097472, 0.41837806, 0.97945913, 0.94828661, 0.02483335],\n",
       "       [0.68883386, 0.570191  , 0.99319241, 0.81333453, 0.3132534 ]])"
      ]
     },
     "execution_count": 31,
     "metadata": {},
     "output_type": "execute_result"
    }
   ],
   "source": [
    "ary1"
   ]
  },
  {
   "cell_type": "code",
   "execution_count": 32,
   "id": "5b6e2e0c",
   "metadata": {},
   "outputs": [],
   "source": [
    "ary2 = np.random.rand(3,4,5)"
   ]
  },
  {
   "cell_type": "code",
   "execution_count": 33,
   "id": "78dd21e4",
   "metadata": {},
   "outputs": [
    {
     "data": {
      "text/plain": [
       "array([[[0.61598896, 0.95214786, 0.19552978, 0.54923186, 0.7595043 ],\n",
       "        [0.41850222, 0.53123953, 0.14625992, 0.84779388, 0.98101131],\n",
       "        [0.73602975, 0.36228038, 0.79019932, 0.33157746, 0.33330137],\n",
       "        [0.23448069, 0.4963031 , 0.1867735 , 0.93618514, 0.2488705 ]],\n",
       "\n",
       "       [[0.00522394, 0.92276945, 0.38188497, 0.69325177, 0.41447131],\n",
       "        [0.94476638, 0.26222342, 0.25144767, 0.01838441, 0.1683121 ],\n",
       "        [0.41365376, 0.14569217, 0.11104413, 0.23494026, 0.13902367],\n",
       "        [0.25467866, 0.28227771, 0.92785069, 0.77443812, 0.64206019]],\n",
       "\n",
       "       [[0.0031767 , 0.21011528, 0.97909011, 0.13419178, 0.79059445],\n",
       "        [0.99715399, 0.06330093, 0.49225981, 0.35871224, 0.45610925],\n",
       "        [0.46361827, 0.94890693, 0.87640209, 0.82073114, 0.5362048 ],\n",
       "        [0.16802666, 0.90780582, 0.72619481, 0.62203957, 0.09225997]]])"
      ]
     },
     "execution_count": 33,
     "metadata": {},
     "output_type": "execute_result"
    }
   ],
   "source": [
    "ary2"
   ]
  },
  {
   "cell_type": "code",
   "execution_count": 34,
   "id": "b8ed1aaf",
   "metadata": {},
   "outputs": [
    {
     "data": {
      "text/plain": [
       "array([[ 1.07131062, -0.5896657 ,  0.17035699, -0.41387559, -0.28780706],\n",
       "       [-0.27537739,  1.68352911, -1.50568318,  0.0277852 ,  2.18527215],\n",
       "       [-0.07839203, -0.14603728, -0.41534146, -1.23722139, -0.67881243],\n",
       "       [ 1.20283287,  0.11523235,  1.19593164, -1.80220294,  0.00287045]])"
      ]
     },
     "execution_count": 34,
     "metadata": {},
     "output_type": "execute_result"
    }
   ],
   "source": [
    "np.random.randn(4,5)"
   ]
  },
  {
   "cell_type": "code",
   "execution_count": 35,
   "id": "241382f2",
   "metadata": {},
   "outputs": [],
   "source": [
    "ary3 = np.random.randn(2,3,5)"
   ]
  },
  {
   "cell_type": "code",
   "execution_count": 36,
   "id": "fc7a6e45",
   "metadata": {},
   "outputs": [
    {
     "data": {
      "text/plain": [
       "array([[[ 0.47313609, -0.00877317, -0.65621199,  0.71649347,\n",
       "          0.81498589],\n",
       "        [ 0.15648465, -0.07044669,  1.33833903,  1.33987533,\n",
       "          1.63921716],\n",
       "        [ 0.80724944,  0.45936945,  0.26284567, -0.49073327,\n",
       "          1.66931364]],\n",
       "\n",
       "       [[ 1.22780856, -1.57973343, -0.81684993,  1.53038302,\n",
       "         -0.3696001 ],\n",
       "        [ 0.39798649,  0.19937215,  0.468239  ,  0.88282709,\n",
       "          1.08982699],\n",
       "        [-0.20716364,  0.5876825 ,  0.07069172, -0.68000672,\n",
       "          0.91734211]]])"
      ]
     },
     "execution_count": 36,
     "metadata": {},
     "output_type": "execute_result"
    }
   ],
   "source": [
    "ary3"
   ]
  },
  {
   "cell_type": "code",
   "execution_count": 37,
   "id": "8502af0c",
   "metadata": {},
   "outputs": [
    {
     "data": {
      "text/plain": [
       "3"
      ]
     },
     "execution_count": 37,
     "metadata": {},
     "output_type": "execute_result"
    }
   ],
   "source": [
    "ary3.ndim"
   ]
  },
  {
   "cell_type": "code",
   "execution_count": 38,
   "id": "c1081851",
   "metadata": {},
   "outputs": [
    {
     "data": {
      "text/plain": [
       "(2, 3, 5)"
      ]
     },
     "execution_count": 38,
     "metadata": {},
     "output_type": "execute_result"
    }
   ],
   "source": [
    "ary3.shape"
   ]
  },
  {
   "cell_type": "code",
   "execution_count": 39,
   "id": "d0c59c1a",
   "metadata": {},
   "outputs": [
    {
     "data": {
      "text/plain": [
       "30"
      ]
     },
     "execution_count": 39,
     "metadata": {},
     "output_type": "execute_result"
    }
   ],
   "source": [
    "ary3.size"
   ]
  },
  {
   "cell_type": "code",
   "execution_count": 40,
   "id": "36e60961",
   "metadata": {},
   "outputs": [
    {
     "data": {
      "text/plain": [
       "dtype('float64')"
      ]
     },
     "execution_count": 40,
     "metadata": {},
     "output_type": "execute_result"
    }
   ],
   "source": [
    "ary3.dtype"
   ]
  },
  {
   "cell_type": "code",
   "execution_count": 41,
   "id": "7d7ab564",
   "metadata": {},
   "outputs": [],
   "source": [
    "a1 = np.random.randint(10,50,(4,6))"
   ]
  },
  {
   "cell_type": "code",
   "execution_count": 42,
   "id": "f61b3e47",
   "metadata": {},
   "outputs": [
    {
     "data": {
      "text/plain": [
       "array([[27, 37, 22, 12, 49, 40],\n",
       "       [16, 15, 34, 41, 36, 48],\n",
       "       [45, 49, 20, 27, 36, 45],\n",
       "       [40, 33, 41, 41, 49, 17]])"
      ]
     },
     "execution_count": 42,
     "metadata": {},
     "output_type": "execute_result"
    }
   ],
   "source": [
    "a1"
   ]
  },
  {
   "cell_type": "code",
   "execution_count": 43,
   "id": "2b8d0b0f",
   "metadata": {},
   "outputs": [
    {
     "data": {
      "text/plain": [
       "24"
      ]
     },
     "execution_count": 43,
     "metadata": {},
     "output_type": "execute_result"
    }
   ],
   "source": [
    "a1.size"
   ]
  },
  {
   "cell_type": "code",
   "execution_count": 44,
   "id": "0d2392ae",
   "metadata": {},
   "outputs": [
    {
     "data": {
      "text/plain": [
       "(4, 6)"
      ]
     },
     "execution_count": 44,
     "metadata": {},
     "output_type": "execute_result"
    }
   ],
   "source": [
    "a1.shape"
   ]
  },
  {
   "cell_type": "code",
   "execution_count": 45,
   "id": "b1fc6b10",
   "metadata": {},
   "outputs": [
    {
     "data": {
      "text/plain": [
       "41"
      ]
     },
     "execution_count": 45,
     "metadata": {},
     "output_type": "execute_result"
    }
   ],
   "source": [
    "a1[1,3]"
   ]
  },
  {
   "cell_type": "code",
   "execution_count": 46,
   "id": "ac402abb",
   "metadata": {},
   "outputs": [
    {
     "data": {
      "text/plain": [
       "41"
      ]
     },
     "execution_count": 46,
     "metadata": {},
     "output_type": "execute_result"
    }
   ],
   "source": [
    "a1[1][3]"
   ]
  },
  {
   "cell_type": "code",
   "execution_count": 47,
   "id": "4aaa8aad",
   "metadata": {},
   "outputs": [
    {
     "data": {
      "text/plain": [
       "27"
      ]
     },
     "execution_count": 47,
     "metadata": {},
     "output_type": "execute_result"
    }
   ],
   "source": [
    "a1[2,3]"
   ]
  },
  {
   "cell_type": "code",
   "execution_count": 48,
   "id": "342f3f83",
   "metadata": {},
   "outputs": [
    {
     "data": {
      "text/plain": [
       "array([[15, 34, 41, 36],\n",
       "       [49, 20, 27, 36]])"
      ]
     },
     "execution_count": 48,
     "metadata": {},
     "output_type": "execute_result"
    }
   ],
   "source": [
    "a1[1:3:1 , 1:5:1]"
   ]
  },
  {
   "cell_type": "code",
   "execution_count": 49,
   "id": "92e5e24a",
   "metadata": {},
   "outputs": [
    {
     "data": {
      "text/plain": [
       "array([[27, 37, 22, 12],\n",
       "       [16, 15, 34, 41],\n",
       "       [45, 49, 20, 27]])"
      ]
     },
     "execution_count": 49,
     "metadata": {},
     "output_type": "execute_result"
    }
   ],
   "source": [
    "a1[0:3:1 , 0:4:1]"
   ]
  },
  {
   "cell_type": "code",
   "execution_count": 50,
   "id": "02eac6df",
   "metadata": {},
   "outputs": [
    {
     "data": {
      "text/plain": [
       "array([[37, 22, 12, 49],\n",
       "       [49, 20, 27, 36]])"
      ]
     },
     "execution_count": 50,
     "metadata": {},
     "output_type": "execute_result"
    }
   ],
   "source": [
    "a1[0:3 : 2  ,  1 : 5 : 1  ]"
   ]
  },
  {
   "cell_type": "code",
   "execution_count": 51,
   "id": "be9b1bd8",
   "metadata": {},
   "outputs": [],
   "source": [
    "a2 = np.random.randint(10,80,(2,4,6))"
   ]
  },
  {
   "cell_type": "code",
   "execution_count": 52,
   "id": "2aa0fced",
   "metadata": {},
   "outputs": [
    {
     "data": {
      "text/plain": [
       "array([[[27, 30, 41, 39, 54, 75],\n",
       "        [47, 39, 58, 17, 19, 61],\n",
       "        [65, 21, 43, 46, 76, 13],\n",
       "        [73, 70, 58, 47, 59, 27]],\n",
       "\n",
       "       [[24, 51, 23, 33, 10, 60],\n",
       "        [31, 41, 67, 58, 63, 45],\n",
       "        [10, 48, 40, 72, 77, 42],\n",
       "        [14, 72, 42, 27, 31, 75]]])"
      ]
     },
     "execution_count": 52,
     "metadata": {},
     "output_type": "execute_result"
    }
   ],
   "source": [
    "a2"
   ]
  },
  {
   "cell_type": "code",
   "execution_count": 53,
   "id": "ec89b85c",
   "metadata": {},
   "outputs": [
    {
     "data": {
      "text/plain": [
       "3"
      ]
     },
     "execution_count": 53,
     "metadata": {},
     "output_type": "execute_result"
    }
   ],
   "source": [
    "a2.ndim"
   ]
  },
  {
   "cell_type": "code",
   "execution_count": 54,
   "id": "47a8178a",
   "metadata": {},
   "outputs": [
    {
     "data": {
      "text/plain": [
       "46"
      ]
     },
     "execution_count": 54,
     "metadata": {},
     "output_type": "execute_result"
    }
   ],
   "source": [
    "a2[0,2,3]"
   ]
  },
  {
   "cell_type": "code",
   "execution_count": 55,
   "id": "493c62bc",
   "metadata": {},
   "outputs": [
    {
     "data": {
      "text/plain": [
       "array([[[39, 58, 17],\n",
       "        [21, 43, 46],\n",
       "        [70, 58, 47]]])"
      ]
     },
     "execution_count": 55,
     "metadata": {},
     "output_type": "execute_result"
    }
   ],
   "source": [
    "a2 [ 0:1 , 1:4:1 , 1:4:1]"
   ]
  },
  {
   "cell_type": "code",
   "execution_count": 56,
   "id": "d8038c3c",
   "metadata": {},
   "outputs": [
    {
     "data": {
      "text/plain": [
       "array([[[30, 41, 39, 54],\n",
       "        [21, 43, 46, 76]],\n",
       "\n",
       "       [[51, 23, 33, 10],\n",
       "        [48, 40, 72, 77]]])"
      ]
     },
     "execution_count": 56,
     "metadata": {},
     "output_type": "execute_result"
    }
   ],
   "source": [
    "a2 [0:2:1 , 0:3:2 , 1:5:1]"
   ]
  },
  {
   "cell_type": "code",
   "execution_count": 57,
   "id": "5d04b1aa",
   "metadata": {},
   "outputs": [
    {
     "data": {
      "text/plain": [
       "array([[[39, 58, 17],\n",
       "        [21, 43, 46]],\n",
       "\n",
       "       [[41, 67, 58],\n",
       "        [48, 40, 72]]])"
      ]
     },
     "execution_count": 57,
     "metadata": {},
     "output_type": "execute_result"
    }
   ],
   "source": [
    "a2[  0:2:1   ,   1 : 3 : 1       ,    1 : 4 : 1    ]"
   ]
  },
  {
   "cell_type": "code",
   "execution_count": 58,
   "id": "228962ab",
   "metadata": {},
   "outputs": [],
   "source": [
    "a3 = np.random.randint(100,200,(2,3,4,6))"
   ]
  },
  {
   "cell_type": "code",
   "execution_count": 59,
   "id": "9c4b9bca",
   "metadata": {},
   "outputs": [
    {
     "data": {
      "text/plain": [
       "array([[[[170, 114, 149, 109, 105, 110],\n",
       "         [175, 101, 141, 164, 123, 117],\n",
       "         [119, 193, 193, 149, 164, 143],\n",
       "         [177, 154, 174, 124, 127, 147]],\n",
       "\n",
       "        [[134, 168, 159, 158, 172, 138],\n",
       "         [139, 161, 156, 146, 169, 131],\n",
       "         [113, 195, 113, 102, 176, 170],\n",
       "         [148, 123, 198, 193, 189, 170]],\n",
       "\n",
       "        [[141, 100, 185, 188, 185, 108],\n",
       "         [199, 172, 106, 189, 113, 126],\n",
       "         [178, 153, 144, 178, 191, 130],\n",
       "         [179, 124, 109, 194, 101, 160]]],\n",
       "\n",
       "\n",
       "       [[[139, 199, 184, 155, 193, 146],\n",
       "         [184, 137, 178, 129, 163, 100],\n",
       "         [128, 114, 139, 175, 184, 118],\n",
       "         [135, 186, 133, 130, 190, 141]],\n",
       "\n",
       "        [[143, 161, 188, 197, 158, 131],\n",
       "         [124, 126, 112, 117, 126, 125],\n",
       "         [188, 197, 178, 189, 113, 123],\n",
       "         [158, 184, 188, 146, 172, 167]],\n",
       "\n",
       "        [[116, 186, 116, 127, 146, 179],\n",
       "         [186, 147, 187, 153, 140, 123],\n",
       "         [193, 100, 152, 107, 104, 159],\n",
       "         [157, 105, 133, 191, 137, 168]]]])"
      ]
     },
     "execution_count": 59,
     "metadata": {},
     "output_type": "execute_result"
    }
   ],
   "source": [
    "a3"
   ]
  },
  {
   "cell_type": "code",
   "execution_count": 60,
   "id": "dfe9859e",
   "metadata": {},
   "outputs": [
    {
     "data": {
      "text/plain": [
       "4"
      ]
     },
     "execution_count": 60,
     "metadata": {},
     "output_type": "execute_result"
    }
   ],
   "source": [
    "a3.ndim"
   ]
  },
  {
   "cell_type": "code",
   "execution_count": 61,
   "id": "ea5ded95",
   "metadata": {},
   "outputs": [],
   "source": [
    "list1 = [10,50,80,90]"
   ]
  },
  {
   "cell_type": "code",
   "execution_count": 62,
   "id": "a1c7d1cb",
   "metadata": {},
   "outputs": [
    {
     "data": {
      "text/plain": [
       "array([[90, 90, 80, 90, 90, 90],\n",
       "       [80, 10, 80, 90, 90, 90],\n",
       "       [90, 10, 90, 90, 90, 80],\n",
       "       [80, 90, 80, 10, 90, 80]])"
      ]
     },
     "execution_count": 62,
     "metadata": {},
     "output_type": "execute_result"
    }
   ],
   "source": [
    "np.random.choice(list1, (4,6), p = [0.2,0,0.3,0.5])"
   ]
  },
  {
   "cell_type": "code",
   "execution_count": 63,
   "id": "9eb9456b",
   "metadata": {},
   "outputs": [],
   "source": [
    "np1 = np.arange(11,19)"
   ]
  },
  {
   "cell_type": "code",
   "execution_count": 64,
   "id": "64c73492",
   "metadata": {},
   "outputs": [
    {
     "data": {
      "text/plain": [
       "array([11, 12, 13, 14, 15, 16, 17, 18])"
      ]
     },
     "execution_count": 64,
     "metadata": {},
     "output_type": "execute_result"
    }
   ],
   "source": [
    "np1"
   ]
  },
  {
   "cell_type": "code",
   "execution_count": 65,
   "id": "d3798c96",
   "metadata": {},
   "outputs": [],
   "source": [
    "a4 = np.random.randint(10,52,(2,2,4,6))"
   ]
  },
  {
   "cell_type": "code",
   "execution_count": 66,
   "id": "10e04393",
   "metadata": {},
   "outputs": [
    {
     "data": {
      "text/plain": [
       "array([[[[43, 17, 48, 15, 27, 37],\n",
       "         [11, 24, 34, 15, 51, 25],\n",
       "         [47, 12, 29, 23, 16, 10],\n",
       "         [43, 32, 34, 14, 13, 39]],\n",
       "\n",
       "        [[14, 31, 38, 11, 18, 22],\n",
       "         [14, 30, 36, 23, 47, 32],\n",
       "         [18, 48, 12, 51, 21, 51],\n",
       "         [15, 19, 51, 33, 31, 41]]],\n",
       "\n",
       "\n",
       "       [[[12, 44, 38, 12, 24, 44],\n",
       "         [41, 20, 15, 17, 47, 15],\n",
       "         [22, 41, 46, 28, 16, 43],\n",
       "         [22, 14, 15, 12, 19, 37]],\n",
       "\n",
       "        [[37, 16, 26, 47, 48, 11],\n",
       "         [40, 47, 29, 17, 28, 51],\n",
       "         [30, 47, 51, 38, 38, 38],\n",
       "         [18, 33, 26, 33, 46, 36]]]])"
      ]
     },
     "execution_count": 66,
     "metadata": {},
     "output_type": "execute_result"
    }
   ],
   "source": [
    "a4"
   ]
  },
  {
   "cell_type": "code",
   "execution_count": 67,
   "id": "cc15ae66",
   "metadata": {},
   "outputs": [
    {
     "data": {
      "text/plain": [
       "(2, 2, 4, 6)"
      ]
     },
     "execution_count": 67,
     "metadata": {},
     "output_type": "execute_result"
    }
   ],
   "source": [
    "a4.shape"
   ]
  },
  {
   "cell_type": "code",
   "execution_count": 68,
   "id": "d5555d49",
   "metadata": {},
   "outputs": [
    {
     "data": {
      "text/plain": [
       "array([[[[24, 34, 15, 51],\n",
       "         [12, 29, 23, 16]],\n",
       "\n",
       "        [[30, 36, 23, 47],\n",
       "         [48, 12, 51, 21]]],\n",
       "\n",
       "\n",
       "       [[[20, 15, 17, 47],\n",
       "         [41, 46, 28, 16]],\n",
       "\n",
       "        [[47, 29, 17, 28],\n",
       "         [47, 51, 38, 38]]]])"
      ]
     },
     "execution_count": 68,
     "metadata": {},
     "output_type": "execute_result"
    }
   ],
   "source": [
    "a4[ 0:2:1   , 0:2:1   , 1:3:1    , 1:5:1   ]"
   ]
  },
  {
   "cell_type": "code",
   "execution_count": 69,
   "id": "d7fd3245",
   "metadata": {},
   "outputs": [],
   "source": [
    "a5 = np.random.randint(10,60,(3,4,6))"
   ]
  },
  {
   "cell_type": "code",
   "execution_count": 70,
   "id": "69438120",
   "metadata": {},
   "outputs": [
    {
     "data": {
      "text/plain": [
       "array([[[14, 48, 17, 16, 48, 18],\n",
       "        [36, 14, 47, 18, 20, 11],\n",
       "        [18, 20, 59, 36, 57, 43],\n",
       "        [44, 11, 20, 43, 56, 27]],\n",
       "\n",
       "       [[35, 43, 34, 40, 21, 22],\n",
       "        [38, 53, 35, 59, 28, 31],\n",
       "        [20, 35, 59, 38, 25, 18],\n",
       "        [43, 49, 27, 38, 56, 11]],\n",
       "\n",
       "       [[43, 54, 47, 15, 43, 44],\n",
       "        [50, 32, 58, 52, 15, 15],\n",
       "        [58, 43, 10, 25, 10, 47],\n",
       "        [21, 51, 11, 50, 59, 28]]])"
      ]
     },
     "execution_count": 70,
     "metadata": {},
     "output_type": "execute_result"
    }
   ],
   "source": [
    "a5"
   ]
  },
  {
   "cell_type": "code",
   "execution_count": 71,
   "id": "79f99e28",
   "metadata": {},
   "outputs": [
    {
     "data": {
      "text/plain": [
       "array([[[14, 47, 18],\n",
       "        [20, 59, 36],\n",
       "        [11, 20, 43]],\n",
       "\n",
       "       [[32, 58, 52],\n",
       "        [43, 10, 25],\n",
       "        [51, 11, 50]]])"
      ]
     },
     "execution_count": 71,
     "metadata": {},
     "output_type": "execute_result"
    }
   ],
   "source": [
    "a5[ 0:3:2  , 1:4:1   , 1:4:1   ]"
   ]
  },
  {
   "cell_type": "markdown",
   "id": "bb9fa187",
   "metadata": {},
   "source": [
    "## ADVANCED INDEXING"
   ]
  },
  {
   "cell_type": "code",
   "execution_count": 72,
   "id": "3ae18aae",
   "metadata": {},
   "outputs": [],
   "source": [
    "b1 = np.arange(10,30)"
   ]
  },
  {
   "cell_type": "code",
   "execution_count": 73,
   "id": "f2ed5f16",
   "metadata": {},
   "outputs": [
    {
     "data": {
      "text/plain": [
       "array([10, 11, 12, 13, 14, 15, 16, 17, 18, 19, 20, 21, 22, 23, 24, 25, 26,\n",
       "       27, 28, 29])"
      ]
     },
     "execution_count": 73,
     "metadata": {},
     "output_type": "execute_result"
    }
   ],
   "source": [
    "b1"
   ]
  },
  {
   "cell_type": "code",
   "execution_count": 74,
   "id": "f87f773e",
   "metadata": {},
   "outputs": [
    {
     "data": {
      "text/plain": [
       "14"
      ]
     },
     "execution_count": 74,
     "metadata": {},
     "output_type": "execute_result"
    }
   ],
   "source": [
    "b1[4]"
   ]
  },
  {
   "cell_type": "code",
   "execution_count": 75,
   "id": "7099aa82",
   "metadata": {},
   "outputs": [
    {
     "data": {
      "text/plain": [
       "array([15, 16, 17, 18, 19, 20])"
      ]
     },
     "execution_count": 75,
     "metadata": {},
     "output_type": "execute_result"
    }
   ],
   "source": [
    "b1[5:11:1]"
   ]
  },
  {
   "cell_type": "code",
   "execution_count": 76,
   "id": "8d0a09f8",
   "metadata": {},
   "outputs": [
    {
     "data": {
      "text/plain": [
       "array([15, 17, 19])"
      ]
     },
     "execution_count": 76,
     "metadata": {},
     "output_type": "execute_result"
    }
   ],
   "source": [
    "b1[5:11:2]"
   ]
  },
  {
   "cell_type": "code",
   "execution_count": 77,
   "id": "18a87f53",
   "metadata": {},
   "outputs": [],
   "source": [
    "l1 = [1,5,6,8,13,15]"
   ]
  },
  {
   "cell_type": "code",
   "execution_count": 78,
   "id": "90ebf672",
   "metadata": {},
   "outputs": [
    {
     "data": {
      "text/plain": [
       "array([11, 15, 16, 18, 23, 25])"
      ]
     },
     "execution_count": 78,
     "metadata": {},
     "output_type": "execute_result"
    }
   ],
   "source": [
    "b1[l1]"
   ]
  },
  {
   "cell_type": "code",
   "execution_count": 79,
   "id": "6d632653",
   "metadata": {},
   "outputs": [
    {
     "data": {
      "text/plain": [
       "array([11, 15, 16, 18, 23, 25])"
      ]
     },
     "execution_count": 79,
     "metadata": {},
     "output_type": "execute_result"
    }
   ],
   "source": [
    "b1[[1,5,6,8,13,15]]"
   ]
  },
  {
   "cell_type": "code",
   "execution_count": 80,
   "id": "839351d7",
   "metadata": {},
   "outputs": [],
   "source": [
    "b2 = np.random.randint(10,50,(4,5))"
   ]
  },
  {
   "cell_type": "code",
   "execution_count": 81,
   "id": "1f3c1a87",
   "metadata": {},
   "outputs": [
    {
     "data": {
      "text/plain": [
       "array([[35, 24, 29, 36, 43],\n",
       "       [18, 31, 34, 46, 15],\n",
       "       [21, 48, 46, 14, 26],\n",
       "       [32, 37, 31, 41, 20]])"
      ]
     },
     "execution_count": 81,
     "metadata": {},
     "output_type": "execute_result"
    }
   ],
   "source": [
    "b2"
   ]
  },
  {
   "cell_type": "code",
   "execution_count": 82,
   "id": "da0b0a8b",
   "metadata": {},
   "outputs": [
    {
     "data": {
      "text/plain": [
       "46"
      ]
     },
     "execution_count": 82,
     "metadata": {},
     "output_type": "execute_result"
    }
   ],
   "source": [
    "b2[1,3]"
   ]
  },
  {
   "cell_type": "code",
   "execution_count": 83,
   "id": "06e46cb3",
   "metadata": {},
   "outputs": [
    {
     "data": {
      "text/plain": [
       "array([[31, 34, 46],\n",
       "       [48, 46, 14]])"
      ]
     },
     "execution_count": 83,
     "metadata": {},
     "output_type": "execute_result"
    }
   ],
   "source": [
    "b2[ 1: 3 : 1  ,   1 : 4 : 1  ]"
   ]
  },
  {
   "cell_type": "code",
   "execution_count": 84,
   "id": "91c589c1",
   "metadata": {},
   "outputs": [],
   "source": [
    "rindex = [2,1,2,0,3]"
   ]
  },
  {
   "cell_type": "code",
   "execution_count": 85,
   "id": "e84cfd87",
   "metadata": {},
   "outputs": [],
   "source": [
    "cindex = [0,1,3,2,4]"
   ]
  },
  {
   "cell_type": "code",
   "execution_count": 86,
   "id": "2446f468",
   "metadata": {},
   "outputs": [
    {
     "data": {
      "text/plain": [
       "array([21, 31, 14, 29, 20])"
      ]
     },
     "execution_count": 86,
     "metadata": {},
     "output_type": "execute_result"
    }
   ],
   "source": [
    "b2[ rindex, cindex]"
   ]
  },
  {
   "cell_type": "code",
   "execution_count": 87,
   "id": "2407060d",
   "metadata": {},
   "outputs": [
    {
     "data": {
      "text/plain": [
       "array([21, 31, 14, 29, 20])"
      ]
     },
     "execution_count": 87,
     "metadata": {},
     "output_type": "execute_result"
    }
   ],
   "source": [
    "b2[ [2,1,2,0,3]  ,  [0,1,3,2,4]   ]"
   ]
  },
  {
   "cell_type": "code",
   "execution_count": 88,
   "id": "be828a9b",
   "metadata": {},
   "outputs": [],
   "source": [
    "b3 = np.random.randint(20,50,(2,4,6))"
   ]
  },
  {
   "cell_type": "code",
   "execution_count": 89,
   "id": "98882b07",
   "metadata": {},
   "outputs": [
    {
     "data": {
      "text/plain": [
       "array([[[42, 35, 32, 46, 38, 43],\n",
       "        [39, 43, 28, 38, 27, 25],\n",
       "        [41, 45, 47, 32, 25, 36],\n",
       "        [24, 30, 28, 40, 38, 22]],\n",
       "\n",
       "       [[26, 49, 21, 28, 35, 30],\n",
       "        [22, 20, 21, 28, 38, 48],\n",
       "        [49, 22, 22, 47, 33, 35],\n",
       "        [29, 47, 47, 48, 32, 43]]])"
      ]
     },
     "execution_count": 89,
     "metadata": {},
     "output_type": "execute_result"
    }
   ],
   "source": [
    "b3"
   ]
  },
  {
   "cell_type": "code",
   "execution_count": 90,
   "id": "f2c2184a",
   "metadata": {},
   "outputs": [
    {
     "data": {
      "text/plain": [
       "array([38, 22, 42, 35, 47, 28])"
      ]
     },
     "execution_count": 90,
     "metadata": {},
     "output_type": "execute_result"
    }
   ],
   "source": [
    "b3[[0,1,0,1,0,1]     , [3,2,0,2,2,1]        ,[4,1,0,5,2,3,]    ]"
   ]
  },
  {
   "cell_type": "markdown",
   "id": "e1063489",
   "metadata": {},
   "source": [
    "## BOOLEAN INDEXING"
   ]
  },
  {
   "cell_type": "code",
   "execution_count": 91,
   "id": "fa74def7",
   "metadata": {},
   "outputs": [],
   "source": [
    "c1 = np.random.randint(70,150,(50))"
   ]
  },
  {
   "cell_type": "code",
   "execution_count": 92,
   "id": "54312c6b",
   "metadata": {},
   "outputs": [
    {
     "data": {
      "text/plain": [
       "array([119,  78,  72,  77,  93, 140, 133,  76, 145, 110, 126, 124, 142,\n",
       "        90, 102,  93, 122, 119, 129, 120, 106, 125, 121, 136,  73,  93,\n",
       "       101,  92, 117, 148, 115, 118,  70, 138, 131,  70, 103,  71, 131,\n",
       "       130, 148,  81, 140, 113, 132, 127,  71,  93,  75,  80])"
      ]
     },
     "execution_count": 92,
     "metadata": {},
     "output_type": "execute_result"
    }
   ],
   "source": [
    "c1"
   ]
  },
  {
   "cell_type": "code",
   "execution_count": 93,
   "id": "175a2d21",
   "metadata": {},
   "outputs": [],
   "source": [
    "f1 = c1 < 100"
   ]
  },
  {
   "cell_type": "code",
   "execution_count": 94,
   "id": "1140a17e",
   "metadata": {},
   "outputs": [
    {
     "data": {
      "text/plain": [
       "array([False,  True,  True,  True,  True, False, False,  True, False,\n",
       "       False, False, False, False,  True, False,  True, False, False,\n",
       "       False, False, False, False, False, False,  True,  True, False,\n",
       "        True, False, False, False, False,  True, False, False,  True,\n",
       "       False,  True, False, False, False,  True, False, False, False,\n",
       "       False,  True,  True,  True,  True])"
      ]
     },
     "execution_count": 94,
     "metadata": {},
     "output_type": "execute_result"
    }
   ],
   "source": [
    "f1"
   ]
  },
  {
   "cell_type": "code",
   "execution_count": 95,
   "id": "d96672d0",
   "metadata": {},
   "outputs": [
    {
     "data": {
      "text/plain": [
       "array([78, 72, 77, 93, 76, 90, 93, 73, 93, 92, 70, 70, 71, 81, 71, 93, 75,\n",
       "       80])"
      ]
     },
     "execution_count": 95,
     "metadata": {},
     "output_type": "execute_result"
    }
   ],
   "source": [
    "c1[f1]"
   ]
  },
  {
   "cell_type": "code",
   "execution_count": 96,
   "id": "bb562983",
   "metadata": {},
   "outputs": [
    {
     "data": {
      "text/plain": [
       "array([78, 72, 77, 93, 76, 90, 93, 73, 93, 92, 70, 70, 71, 81, 71, 93, 75,\n",
       "       80])"
      ]
     },
     "execution_count": 96,
     "metadata": {},
     "output_type": "execute_result"
    }
   ],
   "source": [
    "c1[c1 < 100]"
   ]
  },
  {
   "cell_type": "code",
   "execution_count": 97,
   "id": "e6341eba",
   "metadata": {},
   "outputs": [],
   "source": [
    "c2 = np.random.randint(10,300,(6,8))"
   ]
  },
  {
   "cell_type": "code",
   "execution_count": 98,
   "id": "c64a1883",
   "metadata": {},
   "outputs": [
    {
     "data": {
      "text/plain": [
       "array([[282, 193,  58, 185,  78,  62, 173,  53],\n",
       "       [ 63, 228, 226, 245, 179,  55,  48,  16],\n",
       "       [260, 255, 252, 216, 212, 288,  48, 259],\n",
       "       [ 33,  16, 240, 152, 286,  90, 173, 259],\n",
       "       [269, 115, 119, 286,  38,  84, 281, 251],\n",
       "       [143, 244, 196, 299, 169,  43, 230, 105]])"
      ]
     },
     "execution_count": 98,
     "metadata": {},
     "output_type": "execute_result"
    }
   ],
   "source": [
    "c2"
   ]
  },
  {
   "cell_type": "code",
   "execution_count": 99,
   "id": "f6beb48d",
   "metadata": {},
   "outputs": [
    {
     "data": {
      "text/plain": [
       "array([58, 78, 62, 53, 63, 55, 48, 16, 48, 33, 16, 90, 38, 84, 43])"
      ]
     },
     "execution_count": 99,
     "metadata": {},
     "output_type": "execute_result"
    }
   ],
   "source": [
    "c2[c2<100]"
   ]
  },
  {
   "cell_type": "code",
   "execution_count": 100,
   "id": "a3c5d510",
   "metadata": {},
   "outputs": [
    {
     "data": {
      "text/plain": [
       "array([[ True, False, False, False, False, False, False, False],\n",
       "       [False,  True,  True,  True, False, False, False, False],\n",
       "       [ True,  True,  True,  True,  True,  True, False,  True],\n",
       "       [False, False,  True, False,  True, False, False,  True],\n",
       "       [ True, False, False,  True, False, False,  True,  True],\n",
       "       [False,  True, False,  True, False, False,  True, False]])"
      ]
     },
     "execution_count": 100,
     "metadata": {},
     "output_type": "execute_result"
    }
   ],
   "source": [
    "c2 > 200"
   ]
  },
  {
   "cell_type": "code",
   "execution_count": 101,
   "id": "16c830ce",
   "metadata": {},
   "outputs": [
    {
     "data": {
      "text/plain": [
       "array([282, 228, 226, 245, 260, 255, 252, 216, 212, 288, 259, 240, 286,\n",
       "       259, 269, 286, 281, 251, 244, 299, 230])"
      ]
     },
     "execution_count": 101,
     "metadata": {},
     "output_type": "execute_result"
    }
   ],
   "source": [
    "c2[c2>200]"
   ]
  },
  {
   "cell_type": "code",
   "execution_count": 102,
   "id": "085bca11",
   "metadata": {},
   "outputs": [],
   "source": [
    "#c2 > 100 and c2 < 200 Error"
   ]
  },
  {
   "cell_type": "code",
   "execution_count": 103,
   "id": "a07b0521",
   "metadata": {},
   "outputs": [],
   "source": [
    "f2 = (c2 > 100) & (c2 < 200)"
   ]
  },
  {
   "cell_type": "code",
   "execution_count": 104,
   "id": "76d995a6",
   "metadata": {},
   "outputs": [
    {
     "data": {
      "text/plain": [
       "array([[False,  True, False,  True, False, False,  True, False],\n",
       "       [False, False, False, False,  True, False, False, False],\n",
       "       [False, False, False, False, False, False, False, False],\n",
       "       [False, False, False,  True, False, False,  True, False],\n",
       "       [False,  True,  True, False, False, False, False, False],\n",
       "       [ True, False,  True, False,  True, False, False,  True]])"
      ]
     },
     "execution_count": 104,
     "metadata": {},
     "output_type": "execute_result"
    }
   ],
   "source": [
    "f2"
   ]
  },
  {
   "cell_type": "code",
   "execution_count": 105,
   "id": "3c4b835d",
   "metadata": {},
   "outputs": [
    {
     "data": {
      "text/plain": [
       "array([193, 185, 173, 179, 152, 173, 115, 119, 143, 196, 169, 105])"
      ]
     },
     "execution_count": 105,
     "metadata": {},
     "output_type": "execute_result"
    }
   ],
   "source": [
    "c2[f2]"
   ]
  },
  {
   "cell_type": "code",
   "execution_count": 106,
   "id": "7a1a16a4",
   "metadata": {},
   "outputs": [
    {
     "data": {
      "text/plain": [
       "array([[ True, False,  True, False,  True,  True, False,  True],\n",
       "       [ True,  True,  True,  True, False,  True,  True,  True],\n",
       "       [ True,  True,  True,  True,  True,  True,  True,  True],\n",
       "       [ True,  True,  True, False,  True,  True, False,  True],\n",
       "       [ True, False, False,  True,  True,  True,  True,  True],\n",
       "       [False,  True, False,  True, False,  True,  True, False]])"
      ]
     },
     "execution_count": 106,
     "metadata": {},
     "output_type": "execute_result"
    }
   ],
   "source": [
    "(c2 < 100)  |  (c2 > 200)"
   ]
  },
  {
   "cell_type": "code",
   "execution_count": 107,
   "id": "44521f0b",
   "metadata": {},
   "outputs": [
    {
     "data": {
      "text/plain": [
       "array([282,  58,  78,  62,  53,  63, 228, 226, 245,  55,  48,  16, 260,\n",
       "       255, 252, 216, 212, 288,  48, 259,  33,  16, 240, 286,  90, 259,\n",
       "       269, 286,  38,  84, 281, 251, 244, 299,  43, 230])"
      ]
     },
     "execution_count": 107,
     "metadata": {},
     "output_type": "execute_result"
    }
   ],
   "source": [
    "c2[(c2 < 100)  |  (c2 > 200)]"
   ]
  },
  {
   "cell_type": "markdown",
   "id": "ab01625b",
   "metadata": {},
   "source": [
    "## Operations"
   ]
  },
  {
   "cell_type": "code",
   "execution_count": 108,
   "id": "dc1af05f",
   "metadata": {},
   "outputs": [],
   "source": [
    "d1 = np.arange(1,6)"
   ]
  },
  {
   "cell_type": "code",
   "execution_count": 109,
   "id": "e762f4cd",
   "metadata": {},
   "outputs": [
    {
     "data": {
      "text/plain": [
       "array([1, 2, 3, 4, 5])"
      ]
     },
     "execution_count": 109,
     "metadata": {},
     "output_type": "execute_result"
    }
   ],
   "source": [
    "d1"
   ]
  },
  {
   "cell_type": "code",
   "execution_count": 110,
   "id": "0db3a31b",
   "metadata": {},
   "outputs": [],
   "source": [
    "d2 = np.arange(11,18)"
   ]
  },
  {
   "cell_type": "code",
   "execution_count": 111,
   "id": "c2db904e",
   "metadata": {},
   "outputs": [
    {
     "data": {
      "text/plain": [
       "array([11, 12, 13, 14, 15, 16, 17])"
      ]
     },
     "execution_count": 111,
     "metadata": {},
     "output_type": "execute_result"
    }
   ],
   "source": [
    "d2"
   ]
  },
  {
   "cell_type": "code",
   "execution_count": 112,
   "id": "b00f7d3c",
   "metadata": {},
   "outputs": [
    {
     "data": {
      "text/plain": [
       "(5,)"
      ]
     },
     "execution_count": 112,
     "metadata": {},
     "output_type": "execute_result"
    }
   ],
   "source": [
    "d1.shape"
   ]
  },
  {
   "cell_type": "code",
   "execution_count": 113,
   "id": "4137cfe9",
   "metadata": {},
   "outputs": [
    {
     "data": {
      "text/plain": [
       "(7,)"
      ]
     },
     "execution_count": 113,
     "metadata": {},
     "output_type": "execute_result"
    }
   ],
   "source": [
    "d2.shape"
   ]
  },
  {
   "cell_type": "code",
   "execution_count": 114,
   "id": "aaa972a8",
   "metadata": {},
   "outputs": [],
   "source": [
    "# d1 + d2  Error:operands could not be broadcast together with shapes (5,) (7,) \n"
   ]
  },
  {
   "cell_type": "code",
   "execution_count": 115,
   "id": "c9dd2ea7",
   "metadata": {},
   "outputs": [],
   "source": [
    "d3 = np.arange(11,16)"
   ]
  },
  {
   "cell_type": "code",
   "execution_count": 116,
   "id": "38816d91",
   "metadata": {},
   "outputs": [
    {
     "data": {
      "text/plain": [
       "array([11, 12, 13, 14, 15])"
      ]
     },
     "execution_count": 116,
     "metadata": {},
     "output_type": "execute_result"
    }
   ],
   "source": [
    "d3"
   ]
  },
  {
   "cell_type": "code",
   "execution_count": 117,
   "id": "3ea8eb1d",
   "metadata": {},
   "outputs": [
    {
     "data": {
      "text/plain": [
       "(5,)"
      ]
     },
     "execution_count": 117,
     "metadata": {},
     "output_type": "execute_result"
    }
   ],
   "source": [
    "d1.shape"
   ]
  },
  {
   "cell_type": "code",
   "execution_count": 118,
   "id": "06076f94",
   "metadata": {},
   "outputs": [
    {
     "data": {
      "text/plain": [
       "(5,)"
      ]
     },
     "execution_count": 118,
     "metadata": {},
     "output_type": "execute_result"
    }
   ],
   "source": [
    "d3.shape"
   ]
  },
  {
   "cell_type": "code",
   "execution_count": 119,
   "id": "c9c41fe5",
   "metadata": {},
   "outputs": [
    {
     "data": {
      "text/plain": [
       "array([12, 14, 16, 18, 20])"
      ]
     },
     "execution_count": 119,
     "metadata": {},
     "output_type": "execute_result"
    }
   ],
   "source": [
    "d1 + d3"
   ]
  },
  {
   "cell_type": "code",
   "execution_count": 120,
   "id": "adbfd8b8",
   "metadata": {},
   "outputs": [],
   "source": [
    "e1 = np.random.randint(1,10,(2,2))"
   ]
  },
  {
   "cell_type": "code",
   "execution_count": 121,
   "id": "067209b9",
   "metadata": {},
   "outputs": [],
   "source": [
    "e2 = np.random.randint(1,10,(2,2))"
   ]
  },
  {
   "cell_type": "code",
   "execution_count": 122,
   "id": "4ee15007",
   "metadata": {},
   "outputs": [
    {
     "data": {
      "text/plain": [
       "array([[9, 3],\n",
       "       [9, 5]])"
      ]
     },
     "execution_count": 122,
     "metadata": {},
     "output_type": "execute_result"
    }
   ],
   "source": [
    "e1"
   ]
  },
  {
   "cell_type": "code",
   "execution_count": 123,
   "id": "9e75b04e",
   "metadata": {},
   "outputs": [
    {
     "data": {
      "text/plain": [
       "array([[5, 1],\n",
       "       [7, 4]])"
      ]
     },
     "execution_count": 123,
     "metadata": {},
     "output_type": "execute_result"
    }
   ],
   "source": [
    "e2"
   ]
  },
  {
   "cell_type": "code",
   "execution_count": 124,
   "id": "f08ba310",
   "metadata": {},
   "outputs": [
    {
     "data": {
      "text/plain": [
       "2"
      ]
     },
     "execution_count": 124,
     "metadata": {},
     "output_type": "execute_result"
    }
   ],
   "source": [
    "e1.ndim"
   ]
  },
  {
   "cell_type": "code",
   "execution_count": 125,
   "id": "8b59cb7d",
   "metadata": {},
   "outputs": [
    {
     "data": {
      "text/plain": [
       "2"
      ]
     },
     "execution_count": 125,
     "metadata": {},
     "output_type": "execute_result"
    }
   ],
   "source": [
    "e2.ndim"
   ]
  },
  {
   "cell_type": "code",
   "execution_count": 126,
   "id": "ab2f1641",
   "metadata": {},
   "outputs": [
    {
     "data": {
      "text/plain": [
       "(2, 2)"
      ]
     },
     "execution_count": 126,
     "metadata": {},
     "output_type": "execute_result"
    }
   ],
   "source": [
    "e1.shape"
   ]
  },
  {
   "cell_type": "code",
   "execution_count": 127,
   "id": "da6057b9",
   "metadata": {},
   "outputs": [
    {
     "data": {
      "text/plain": [
       "(2, 2)"
      ]
     },
     "execution_count": 127,
     "metadata": {},
     "output_type": "execute_result"
    }
   ],
   "source": [
    "e2.shape"
   ]
  },
  {
   "cell_type": "code",
   "execution_count": 128,
   "id": "8e539b79",
   "metadata": {},
   "outputs": [
    {
     "data": {
      "text/plain": [
       "array([[14,  4],\n",
       "       [16,  9]])"
      ]
     },
     "execution_count": 128,
     "metadata": {},
     "output_type": "execute_result"
    }
   ],
   "source": [
    "e1 + e2"
   ]
  },
  {
   "cell_type": "code",
   "execution_count": 129,
   "id": "d10ba5cc",
   "metadata": {},
   "outputs": [],
   "source": [
    "e3 = np.random.randint(1,10,(2,1))"
   ]
  },
  {
   "cell_type": "code",
   "execution_count": 130,
   "id": "9c8a13d6",
   "metadata": {},
   "outputs": [
    {
     "data": {
      "text/plain": [
       "array([[9],\n",
       "       [2]])"
      ]
     },
     "execution_count": 130,
     "metadata": {},
     "output_type": "execute_result"
    }
   ],
   "source": [
    "e3"
   ]
  },
  {
   "cell_type": "code",
   "execution_count": 131,
   "id": "26a63b3a",
   "metadata": {},
   "outputs": [
    {
     "data": {
      "text/plain": [
       "2"
      ]
     },
     "execution_count": 131,
     "metadata": {},
     "output_type": "execute_result"
    }
   ],
   "source": [
    "e3.ndim"
   ]
  },
  {
   "cell_type": "code",
   "execution_count": 132,
   "id": "99192cb1",
   "metadata": {},
   "outputs": [
    {
     "data": {
      "text/plain": [
       "(2, 1)"
      ]
     },
     "execution_count": 132,
     "metadata": {},
     "output_type": "execute_result"
    }
   ],
   "source": [
    "e3.shape"
   ]
  },
  {
   "cell_type": "code",
   "execution_count": 133,
   "id": "a8437c64",
   "metadata": {},
   "outputs": [
    {
     "data": {
      "text/plain": [
       "(2, 2)"
      ]
     },
     "execution_count": 133,
     "metadata": {},
     "output_type": "execute_result"
    }
   ],
   "source": [
    "e1.shape"
   ]
  },
  {
   "cell_type": "code",
   "execution_count": 134,
   "id": "e74c00b5",
   "metadata": {},
   "outputs": [
    {
     "data": {
      "text/plain": [
       "array([[18, 12],\n",
       "       [11,  7]])"
      ]
     },
     "execution_count": 134,
     "metadata": {},
     "output_type": "execute_result"
    }
   ],
   "source": [
    "e1 + e3"
   ]
  },
  {
   "cell_type": "code",
   "execution_count": 135,
   "id": "9ff46ade",
   "metadata": {},
   "outputs": [],
   "source": [
    "e4 = np.random.randint(1,10,(3,1))"
   ]
  },
  {
   "cell_type": "code",
   "execution_count": 136,
   "id": "5dc74c90",
   "metadata": {},
   "outputs": [
    {
     "data": {
      "text/plain": [
       "(3, 1)"
      ]
     },
     "execution_count": 136,
     "metadata": {},
     "output_type": "execute_result"
    }
   ],
   "source": [
    "e4.shape"
   ]
  },
  {
   "cell_type": "code",
   "execution_count": 137,
   "id": "c2ce61c8",
   "metadata": {},
   "outputs": [
    {
     "data": {
      "text/plain": [
       "2"
      ]
     },
     "execution_count": 137,
     "metadata": {},
     "output_type": "execute_result"
    }
   ],
   "source": [
    "e4.ndim"
   ]
  },
  {
   "cell_type": "code",
   "execution_count": 138,
   "id": "46b150c7",
   "metadata": {},
   "outputs": [
    {
     "data": {
      "text/plain": [
       "2"
      ]
     },
     "execution_count": 138,
     "metadata": {},
     "output_type": "execute_result"
    }
   ],
   "source": [
    "e2.ndim"
   ]
  },
  {
   "cell_type": "code",
   "execution_count": 139,
   "id": "26adb37f",
   "metadata": {},
   "outputs": [
    {
     "data": {
      "text/plain": [
       "(2, 2)"
      ]
     },
     "execution_count": 139,
     "metadata": {},
     "output_type": "execute_result"
    }
   ],
   "source": [
    "e2.shape"
   ]
  },
  {
   "cell_type": "code",
   "execution_count": 140,
   "id": "dae767ba",
   "metadata": {},
   "outputs": [],
   "source": [
    "# e4 + e2 Error: operands could not be broadcast together with shapes (3,1) (2,2) \n"
   ]
  },
  {
   "cell_type": "code",
   "execution_count": 141,
   "id": "8d932427",
   "metadata": {},
   "outputs": [
    {
     "data": {
      "text/plain": [
       "array([[1],\n",
       "       [2],\n",
       "       [9]])"
      ]
     },
     "execution_count": 141,
     "metadata": {},
     "output_type": "execute_result"
    }
   ],
   "source": [
    "e4"
   ]
  },
  {
   "cell_type": "code",
   "execution_count": 142,
   "id": "94c60086",
   "metadata": {},
   "outputs": [
    {
     "data": {
      "text/plain": [
       "array([[5, 1],\n",
       "       [7, 4]])"
      ]
     },
     "execution_count": 142,
     "metadata": {},
     "output_type": "execute_result"
    }
   ],
   "source": [
    "e2"
   ]
  },
  {
   "cell_type": "code",
   "execution_count": 143,
   "id": "e18e92f9",
   "metadata": {},
   "outputs": [
    {
     "data": {
      "text/plain": [
       "array([[10,  6],\n",
       "       [12,  9]])"
      ]
     },
     "execution_count": 143,
     "metadata": {},
     "output_type": "execute_result"
    }
   ],
   "source": [
    "e2 + 5"
   ]
  },
  {
   "cell_type": "code",
   "execution_count": 144,
   "id": "52c9c0a0",
   "metadata": {},
   "outputs": [
    {
     "data": {
      "text/plain": [
       "array([1, 2, 3, 4, 5])"
      ]
     },
     "execution_count": 144,
     "metadata": {},
     "output_type": "execute_result"
    }
   ],
   "source": [
    "d1"
   ]
  },
  {
   "cell_type": "code",
   "execution_count": 145,
   "id": "6e47e368",
   "metadata": {},
   "outputs": [
    {
     "data": {
      "text/plain": [
       "array([ 6,  7,  8,  9, 10])"
      ]
     },
     "execution_count": 145,
     "metadata": {},
     "output_type": "execute_result"
    }
   ],
   "source": [
    "d1 + 5"
   ]
  },
  {
   "cell_type": "code",
   "execution_count": 146,
   "id": "06994919",
   "metadata": {},
   "outputs": [
    {
     "data": {
      "text/plain": [
       "array([[5, 1],\n",
       "       [7, 4]])"
      ]
     },
     "execution_count": 146,
     "metadata": {},
     "output_type": "execute_result"
    }
   ],
   "source": [
    "e2"
   ]
  },
  {
   "cell_type": "code",
   "execution_count": 147,
   "id": "c05f17b8",
   "metadata": {},
   "outputs": [
    {
     "data": {
      "text/plain": [
       "array([[9],\n",
       "       [2]])"
      ]
     },
     "execution_count": 147,
     "metadata": {},
     "output_type": "execute_result"
    }
   ],
   "source": [
    "e3"
   ]
  },
  {
   "cell_type": "code",
   "execution_count": 148,
   "id": "76d61bf2",
   "metadata": {},
   "outputs": [
    {
     "data": {
      "text/plain": [
       "2"
      ]
     },
     "execution_count": 148,
     "metadata": {},
     "output_type": "execute_result"
    }
   ],
   "source": [
    "e2.ndim"
   ]
  },
  {
   "cell_type": "code",
   "execution_count": 149,
   "id": "8d81c9a9",
   "metadata": {},
   "outputs": [
    {
     "data": {
      "text/plain": [
       "2"
      ]
     },
     "execution_count": 149,
     "metadata": {},
     "output_type": "execute_result"
    }
   ],
   "source": [
    "e3.ndim"
   ]
  },
  {
   "cell_type": "code",
   "execution_count": 150,
   "id": "adb7d36a",
   "metadata": {},
   "outputs": [
    {
     "data": {
      "text/plain": [
       "(2, 2)"
      ]
     },
     "execution_count": 150,
     "metadata": {},
     "output_type": "execute_result"
    }
   ],
   "source": [
    "e2.shape"
   ]
  },
  {
   "cell_type": "code",
   "execution_count": 151,
   "id": "308fdf98",
   "metadata": {},
   "outputs": [
    {
     "data": {
      "text/plain": [
       "(2, 1)"
      ]
     },
     "execution_count": 151,
     "metadata": {},
     "output_type": "execute_result"
    }
   ],
   "source": [
    "e3.shape"
   ]
  },
  {
   "cell_type": "code",
   "execution_count": 152,
   "id": "ff3a31b7",
   "metadata": {},
   "outputs": [
    {
     "data": {
      "text/plain": [
       "array([[14, 10],\n",
       "       [ 9,  6]])"
      ]
     },
     "execution_count": 152,
     "metadata": {},
     "output_type": "execute_result"
    }
   ],
   "source": [
    "e2 + e3"
   ]
  },
  {
   "cell_type": "code",
   "execution_count": 153,
   "id": "df2ff88a",
   "metadata": {},
   "outputs": [
    {
     "data": {
      "text/plain": [
       "(2, 2)"
      ]
     },
     "execution_count": 153,
     "metadata": {},
     "output_type": "execute_result"
    }
   ],
   "source": [
    "e2.shape"
   ]
  },
  {
   "cell_type": "code",
   "execution_count": 154,
   "id": "3cf19fab",
   "metadata": {},
   "outputs": [
    {
     "data": {
      "text/plain": [
       "(3, 1)"
      ]
     },
     "execution_count": 154,
     "metadata": {},
     "output_type": "execute_result"
    }
   ],
   "source": [
    "e4.shape"
   ]
  },
  {
   "cell_type": "code",
   "execution_count": 155,
   "id": "25983062",
   "metadata": {},
   "outputs": [
    {
     "ename": "ValueError",
     "evalue": "operands could not be broadcast together with shapes (2,2) (3,1) ",
     "output_type": "error",
     "traceback": [
      "\u001b[1;31m---------------------------------------------------------------------------\u001b[0m",
      "\u001b[1;31mValueError\u001b[0m                                Traceback (most recent call last)",
      "\u001b[1;32m~\\AppData\\Local\\Temp/ipykernel_17072/346734073.py\u001b[0m in \u001b[0;36m<module>\u001b[1;34m\u001b[0m\n\u001b[1;32m----> 1\u001b[1;33m \u001b[0me2\u001b[0m \u001b[1;33m+\u001b[0m \u001b[0me4\u001b[0m\u001b[1;33m\u001b[0m\u001b[1;33m\u001b[0m\u001b[0m\n\u001b[0m",
      "\u001b[1;31mValueError\u001b[0m: operands could not be broadcast together with shapes (2,2) (3,1) "
     ]
    }
   ],
   "source": [
    "e2 + e4"
   ]
  },
  {
   "cell_type": "code",
   "execution_count": 156,
   "id": "6774b6a5",
   "metadata": {},
   "outputs": [
    {
     "data": {
      "text/plain": [
       "2"
      ]
     },
     "execution_count": 156,
     "metadata": {},
     "output_type": "execute_result"
    }
   ],
   "source": [
    "e4.ndim"
   ]
  },
  {
   "cell_type": "code",
   "execution_count": 157,
   "id": "8e171d7a",
   "metadata": {},
   "outputs": [],
   "source": [
    "f1 = np.random.randint(10,20,(2,3,6))"
   ]
  },
  {
   "cell_type": "code",
   "execution_count": 158,
   "id": "d2b759e1",
   "metadata": {},
   "outputs": [
    {
     "data": {
      "text/plain": [
       "array([[[10, 14, 12, 16, 16, 18],\n",
       "        [14, 14, 18, 16, 12, 18],\n",
       "        [19, 10, 19, 12, 16, 12]],\n",
       "\n",
       "       [[15, 11, 18, 15, 15, 18],\n",
       "        [17, 12, 16, 19, 17, 11],\n",
       "        [11, 10, 14, 13, 11, 11]]])"
      ]
     },
     "execution_count": 158,
     "metadata": {},
     "output_type": "execute_result"
    }
   ],
   "source": [
    "f1"
   ]
  },
  {
   "cell_type": "code",
   "execution_count": 159,
   "id": "59e4ec13",
   "metadata": {},
   "outputs": [
    {
     "data": {
      "text/plain": [
       "(2, 3, 6)"
      ]
     },
     "execution_count": 159,
     "metadata": {},
     "output_type": "execute_result"
    }
   ],
   "source": [
    "f1.shape"
   ]
  },
  {
   "cell_type": "code",
   "execution_count": 160,
   "id": "e1da5695",
   "metadata": {},
   "outputs": [
    {
     "data": {
      "text/plain": [
       "3"
      ]
     },
     "execution_count": 160,
     "metadata": {},
     "output_type": "execute_result"
    }
   ],
   "source": [
    "f1.ndim"
   ]
  },
  {
   "cell_type": "code",
   "execution_count": 161,
   "id": "9798efda",
   "metadata": {},
   "outputs": [],
   "source": [
    "f2 = np.random.randint(20,40,(2,1,6))"
   ]
  },
  {
   "cell_type": "code",
   "execution_count": 162,
   "id": "9e491d79",
   "metadata": {},
   "outputs": [
    {
     "data": {
      "text/plain": [
       "(2, 1, 6)"
      ]
     },
     "execution_count": 162,
     "metadata": {},
     "output_type": "execute_result"
    }
   ],
   "source": [
    "f2.shape"
   ]
  },
  {
   "cell_type": "code",
   "execution_count": 163,
   "id": "bb71fc50",
   "metadata": {},
   "outputs": [
    {
     "data": {
      "text/plain": [
       "(2, 3, 6)"
      ]
     },
     "metadata": {},
     "output_type": "display_data"
    },
    {
     "data": {
      "text/plain": [
       "(2, 1, 6)"
      ]
     },
     "metadata": {},
     "output_type": "display_data"
    }
   ],
   "source": [
    "display(f1.shape, f2.shape)"
   ]
  },
  {
   "cell_type": "code",
   "execution_count": 164,
   "id": "2a9a81bc",
   "metadata": {},
   "outputs": [
    {
     "data": {
      "text/plain": [
       "array([[[10, 14, 12, 16, 16, 18],\n",
       "        [14, 14, 18, 16, 12, 18],\n",
       "        [19, 10, 19, 12, 16, 12]],\n",
       "\n",
       "       [[15, 11, 18, 15, 15, 18],\n",
       "        [17, 12, 16, 19, 17, 11],\n",
       "        [11, 10, 14, 13, 11, 11]]])"
      ]
     },
     "execution_count": 164,
     "metadata": {},
     "output_type": "execute_result"
    }
   ],
   "source": [
    "f1"
   ]
  },
  {
   "cell_type": "code",
   "execution_count": 165,
   "id": "c2a62494",
   "metadata": {},
   "outputs": [
    {
     "data": {
      "text/plain": [
       "array([[[33, 36, 24, 31, 32, 23]],\n",
       "\n",
       "       [[32, 20, 23, 30, 25, 31]]])"
      ]
     },
     "execution_count": 165,
     "metadata": {},
     "output_type": "execute_result"
    }
   ],
   "source": [
    "f2"
   ]
  },
  {
   "cell_type": "code",
   "execution_count": 166,
   "id": "e8fe05cc",
   "metadata": {},
   "outputs": [
    {
     "data": {
      "text/plain": [
       "array([[[43, 50, 36, 47, 48, 41],\n",
       "        [47, 50, 42, 47, 44, 41],\n",
       "        [52, 46, 43, 43, 48, 35]],\n",
       "\n",
       "       [[47, 31, 41, 45, 40, 49],\n",
       "        [49, 32, 39, 49, 42, 42],\n",
       "        [43, 30, 37, 43, 36, 42]]])"
      ]
     },
     "execution_count": 166,
     "metadata": {},
     "output_type": "execute_result"
    }
   ],
   "source": [
    "f1+f2"
   ]
  },
  {
   "cell_type": "code",
   "execution_count": 167,
   "id": "c1889443",
   "metadata": {},
   "outputs": [
    {
     "data": {
      "text/plain": [
       "3"
      ]
     },
     "execution_count": 167,
     "metadata": {},
     "output_type": "execute_result"
    }
   ],
   "source": [
    "f1.ndim"
   ]
  },
  {
   "cell_type": "code",
   "execution_count": 168,
   "id": "aa551253",
   "metadata": {},
   "outputs": [
    {
     "data": {
      "text/plain": [
       "(2, 3, 6)"
      ]
     },
     "execution_count": 168,
     "metadata": {},
     "output_type": "execute_result"
    }
   ],
   "source": [
    "f1.shape"
   ]
  },
  {
   "cell_type": "code",
   "execution_count": 169,
   "id": "570a5e32",
   "metadata": {},
   "outputs": [
    {
     "data": {
      "text/plain": [
       "(3, 1)"
      ]
     },
     "execution_count": 169,
     "metadata": {},
     "output_type": "execute_result"
    }
   ],
   "source": [
    "e4.shape"
   ]
  },
  {
   "cell_type": "code",
   "execution_count": 170,
   "id": "959ef455",
   "metadata": {},
   "outputs": [
    {
     "data": {
      "text/plain": [
       "array([[[10, 14, 12, 16, 16, 18],\n",
       "        [14, 14, 18, 16, 12, 18],\n",
       "        [19, 10, 19, 12, 16, 12]],\n",
       "\n",
       "       [[15, 11, 18, 15, 15, 18],\n",
       "        [17, 12, 16, 19, 17, 11],\n",
       "        [11, 10, 14, 13, 11, 11]]])"
      ]
     },
     "execution_count": 170,
     "metadata": {},
     "output_type": "execute_result"
    }
   ],
   "source": [
    "f1"
   ]
  },
  {
   "cell_type": "code",
   "execution_count": 171,
   "id": "55885992",
   "metadata": {},
   "outputs": [
    {
     "data": {
      "text/plain": [
       "array([[1],\n",
       "       [2],\n",
       "       [9]])"
      ]
     },
     "execution_count": 171,
     "metadata": {},
     "output_type": "execute_result"
    }
   ],
   "source": [
    "e4"
   ]
  },
  {
   "cell_type": "code",
   "execution_count": 172,
   "id": "23b7d07c",
   "metadata": {},
   "outputs": [
    {
     "data": {
      "text/plain": [
       "array([[[11, 15, 13, 17, 17, 19],\n",
       "        [16, 16, 20, 18, 14, 20],\n",
       "        [28, 19, 28, 21, 25, 21]],\n",
       "\n",
       "       [[16, 12, 19, 16, 16, 19],\n",
       "        [19, 14, 18, 21, 19, 13],\n",
       "        [20, 19, 23, 22, 20, 20]]])"
      ]
     },
     "execution_count": 172,
     "metadata": {},
     "output_type": "execute_result"
    }
   ],
   "source": [
    "f1 + e4"
   ]
  },
  {
   "cell_type": "code",
   "execution_count": 173,
   "id": "f2fc7e66",
   "metadata": {},
   "outputs": [],
   "source": [
    "g1  = np.random.randint(10,50,(2,3,4,5))\n"
   ]
  },
  {
   "cell_type": "code",
   "execution_count": 174,
   "id": "04599f9f",
   "metadata": {},
   "outputs": [
    {
     "data": {
      "text/plain": [
       "4"
      ]
     },
     "execution_count": 174,
     "metadata": {},
     "output_type": "execute_result"
    }
   ],
   "source": [
    "g1.ndim"
   ]
  },
  {
   "cell_type": "code",
   "execution_count": 175,
   "id": "ec342b10",
   "metadata": {},
   "outputs": [
    {
     "data": {
      "text/plain": [
       "(2, 3, 4, 5)"
      ]
     },
     "execution_count": 175,
     "metadata": {},
     "output_type": "execute_result"
    }
   ],
   "source": [
    "g1.shape"
   ]
  },
  {
   "cell_type": "code",
   "execution_count": 176,
   "id": "52a12123",
   "metadata": {},
   "outputs": [],
   "source": [
    "g2 = np.random.randint(10,50,(4,5))"
   ]
  },
  {
   "cell_type": "code",
   "execution_count": 177,
   "id": "9a96be25",
   "metadata": {},
   "outputs": [
    {
     "data": {
      "text/plain": [
       "array([[31, 17, 36, 47, 35],\n",
       "       [19, 11, 49, 10, 49],\n",
       "       [17, 16, 34, 20, 47],\n",
       "       [42, 25, 42, 26, 24]])"
      ]
     },
     "execution_count": 177,
     "metadata": {},
     "output_type": "execute_result"
    }
   ],
   "source": [
    "g2"
   ]
  },
  {
   "cell_type": "code",
   "execution_count": 178,
   "id": "5707a2c8",
   "metadata": {},
   "outputs": [
    {
     "data": {
      "text/plain": [
       "array([[[[11, 16, 25, 23, 44],\n",
       "         [11, 24, 13, 23, 21],\n",
       "         [33, 11, 34, 48, 13],\n",
       "         [21, 10, 33, 33, 44]],\n",
       "\n",
       "        [[48, 31, 16, 34, 33],\n",
       "         [14, 35, 46, 20, 46],\n",
       "         [32, 10, 35, 12, 16],\n",
       "         [13, 22, 34, 21, 34]],\n",
       "\n",
       "        [[34, 44, 33, 47, 15],\n",
       "         [13, 20, 38, 48, 31],\n",
       "         [13, 10, 24, 18, 20],\n",
       "         [30, 37, 20, 24, 18]]],\n",
       "\n",
       "\n",
       "       [[[35, 48, 14, 43, 49],\n",
       "         [41, 38, 11, 34, 35],\n",
       "         [20, 39, 47, 22, 16],\n",
       "         [10, 17, 19, 15, 43]],\n",
       "\n",
       "        [[37, 30, 41, 28, 14],\n",
       "         [12, 30, 21, 41, 23],\n",
       "         [29, 39, 21, 17, 49],\n",
       "         [16, 24, 37, 29, 18]],\n",
       "\n",
       "        [[13, 35, 10, 20, 45],\n",
       "         [42, 17, 36, 23, 38],\n",
       "         [24, 43, 17, 26, 38],\n",
       "         [19, 25, 22, 15, 44]]]])"
      ]
     },
     "execution_count": 178,
     "metadata": {},
     "output_type": "execute_result"
    }
   ],
   "source": [
    "g1"
   ]
  },
  {
   "cell_type": "code",
   "execution_count": 179,
   "id": "884a093c",
   "metadata": {},
   "outputs": [
    {
     "data": {
      "text/plain": [
       "(2, 3, 4, 5)"
      ]
     },
     "metadata": {},
     "output_type": "display_data"
    },
    {
     "data": {
      "text/plain": [
       "(4, 5)"
      ]
     },
     "metadata": {},
     "output_type": "display_data"
    }
   ],
   "source": [
    "display(g1.shape, g2.shape)"
   ]
  },
  {
   "cell_type": "code",
   "execution_count": 180,
   "id": "14981f83",
   "metadata": {},
   "outputs": [
    {
     "data": {
      "text/plain": [
       "array([[[[42, 33, 61, 70, 79],\n",
       "         [30, 35, 62, 33, 70],\n",
       "         [50, 27, 68, 68, 60],\n",
       "         [63, 35, 75, 59, 68]],\n",
       "\n",
       "        [[79, 48, 52, 81, 68],\n",
       "         [33, 46, 95, 30, 95],\n",
       "         [49, 26, 69, 32, 63],\n",
       "         [55, 47, 76, 47, 58]],\n",
       "\n",
       "        [[65, 61, 69, 94, 50],\n",
       "         [32, 31, 87, 58, 80],\n",
       "         [30, 26, 58, 38, 67],\n",
       "         [72, 62, 62, 50, 42]]],\n",
       "\n",
       "\n",
       "       [[[66, 65, 50, 90, 84],\n",
       "         [60, 49, 60, 44, 84],\n",
       "         [37, 55, 81, 42, 63],\n",
       "         [52, 42, 61, 41, 67]],\n",
       "\n",
       "        [[68, 47, 77, 75, 49],\n",
       "         [31, 41, 70, 51, 72],\n",
       "         [46, 55, 55, 37, 96],\n",
       "         [58, 49, 79, 55, 42]],\n",
       "\n",
       "        [[44, 52, 46, 67, 80],\n",
       "         [61, 28, 85, 33, 87],\n",
       "         [41, 59, 51, 46, 85],\n",
       "         [61, 50, 64, 41, 68]]]])"
      ]
     },
     "execution_count": 180,
     "metadata": {},
     "output_type": "execute_result"
    }
   ],
   "source": [
    "g1+g2"
   ]
  },
  {
   "cell_type": "code",
   "execution_count": null,
   "id": "83ccf5eb",
   "metadata": {},
   "outputs": [],
   "source": []
  }
 ],
 "metadata": {
  "kernelspec": {
   "display_name": "Python 3 (ipykernel)",
   "language": "python",
   "name": "python3"
  },
  "language_info": {
   "codemirror_mode": {
    "name": "ipython",
    "version": 3
   },
   "file_extension": ".py",
   "mimetype": "text/x-python",
   "name": "python",
   "nbconvert_exporter": "python",
   "pygments_lexer": "ipython3",
   "version": "3.9.7"
  }
 },
 "nbformat": 4,
 "nbformat_minor": 5
}
